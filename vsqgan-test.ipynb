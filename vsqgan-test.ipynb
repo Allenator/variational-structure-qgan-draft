{
 "cells": [
  {
   "cell_type": "markdown",
   "metadata": {},
   "source": [
    "Varational Structure Quantum Generative Adversarial Networks\n",
    "-----------------------\n",
    "Penn Ave Fish company\n",
    "\n",
    "This notebook is a work-in-progress, and does not reflect the final state of this project.\n",
    "\n",
    "Based on *Quantum Generative Adversarial Networks with Cirq + TensorFlow* at <https://pennylane.ai/qml/demos/tutorial_QGAN.html>\n"
   ]
  },
  {
   "cell_type": "markdown",
   "metadata": {},
   "source": [
    "Using Cirq + TensorFlow\n",
    "-----------------------\n",
    "PennyLane allows us to mix and match quantum devices and classical machine\n",
    "learning software. For this demo, we will link together\n",
    "Google's `Cirq <https://cirq.readthedocs.io/en/stable/>`_ and `TensorFlow <https://www.tensorflow.org/>`_ libraries.\n",
    "\n",
    "We begin by importing PennyLane, NumPy, and TensorFlow.\n",
    "\n"
   ]
  },
  {
   "cell_type": "code",
   "execution_count": 7,
   "metadata": {},
   "outputs": [],
   "source": [
    "import pennylane as qml\n",
    "import numpy as np\n",
    "import tensorflow as tf\n",
    "import remote_cirq"
   ]
  },
  {
   "cell_type": "markdown",
   "metadata": {},
   "source": [
    "We also declare a 3-qubit simulator device running in Cirq.\n",
    "\n"
   ]
  },
  {
   "cell_type": "code",
   "execution_count": 8,
   "metadata": {},
   "outputs": [],
   "source": [
    "# API_KEY = '[REDACTED]'\n",
    "# sim = remote_cirq.RemoteSimulator(API_KEY)\n",
    "# dev = qml.device('cirq.simulator', wires=26, simulator=sim, analytic=False)\n",
    "dev = qml.device('cirq.simulator', wires=3)"
   ]
  },
  {
   "cell_type": "markdown",
   "metadata": {},
   "source": [
    "Generator and Discriminator\n",
    "---------------------------\n",
    "\n",
    "In classical GANs, the starting point is to draw samples either from\n",
    "some \"real data\" distribution, or from the generator, and feed them to\n",
    "the discriminator. In this QGAN example, we will use a quantum circuit\n",
    "to generate the real data.\n",
    "\n",
    "For this simple example, our real data will be a qubit that has been\n",
    "rotated (from the starting state $\\left|0\\right\\rangle$) to some\n",
    "arbitrary, but fixed, state.\n",
    "\n"
   ]
  },
  {
   "cell_type": "code",
   "execution_count": 9,
   "metadata": {},
   "outputs": [],
   "source": [
    "def real(angles, **kwargs):\n",
    "    qml.Hadamard(wires=0)\n",
    "    qml.Rot(*angles, wires=0)"
   ]
  },
  {
   "cell_type": "markdown",
   "metadata": {},
   "source": [
    "For the generator and discriminator, we will choose the same basic\n",
    "circuit structure, but acting on different wires.\n",
    "\n",
    "Both the real data circuit and the generator will output on wire 0,\n",
    "which will be connected as an input to the discriminator. Wire 1 is\n",
    "provided as a workspace for the generator, while the discriminator’s\n",
    "output will be on wire 2.\n",
    "\n"
   ]
  },
  {
   "cell_type": "code",
   "execution_count": 10,
   "metadata": {},
   "outputs": [],
   "source": [
    "def generator(w, **kwargs):\n",
    "    qml.Hadamard(wires=0)\n",
    "    qml.RX(w[0], wires=0)\n",
    "    qml.RX(w[1], wires=1)\n",
    "    qml.RY(w[2], wires=0)\n",
    "    qml.RY(w[3], wires=1)\n",
    "    qml.RZ(w[4], wires=0)\n",
    "    qml.RZ(w[5], wires=1)\n",
    "    qml.CNOT(wires=[0, 1])\n",
    "    qml.RX(w[6], wires=0)\n",
    "    qml.RY(w[7], wires=0)\n",
    "    qml.RZ(w[8], wires=0)\n",
    "\n",
    "\n",
    "def discriminator(w):\n",
    "    qml.Hadamard(wires=0)\n",
    "    qml.RX(w[0], wires=0)\n",
    "    qml.RX(w[1], wires=2)\n",
    "    qml.RY(w[2], wires=0)\n",
    "    qml.RY(w[3], wires=2)\n",
    "    qml.RZ(w[4], wires=0)\n",
    "    qml.RZ(w[5], wires=2)\n",
    "    qml.CNOT(wires=[0, 2])\n",
    "    qml.RX(w[6], wires=2)\n",
    "    qml.RY(w[7], wires=2)\n",
    "    qml.RZ(w[8], wires=2)"
   ]
  },
  {
   "cell_type": "markdown",
   "metadata": {},
   "source": [
    "We create two QNodes. One where the real data source is wired up to the\n",
    "discriminator, and one where the generator is connected to the\n",
    "discriminator. In order to pass TensorFlow Variables into the quantum\n",
    "circuits, we specify the ``\"tf\"`` interface.\n",
    "\n"
   ]
  },
  {
   "cell_type": "code",
   "execution_count": 11,
   "metadata": {},
   "outputs": [],
   "source": [
    "@qml.qnode(dev, interface=\"tf\")\n",
    "def real_disc_circuit(phi, theta, omega, disc_weights):\n",
    "    real([phi, theta, omega])\n",
    "    discriminator(disc_weights)\n",
    "    return qml.expval(qml.PauliZ(2))\n",
    "\n",
    "\n",
    "@qml.qnode(dev, interface=\"tf\")\n",
    "def gen_disc_circuit(gen_weights, disc_weights):\n",
    "    generator(gen_weights)\n",
    "    discriminator(disc_weights)\n",
    "    return qml.expval(qml.PauliZ(2))"
   ]
  },
  {
   "cell_type": "markdown",
   "metadata": {},
   "source": [
    "QGAN cost functions\n",
    "-------------------\n",
    "\n",
    "There are two cost functions of interest, corresponding to the two\n",
    "stages of QGAN training. These cost functions are built from two pieces:\n",
    "the first piece is the probability that the discriminator correctly\n",
    "classifies real data as real. The second piece is the probability that the\n",
    "discriminator classifies fake data (i.e., a state prepared by the\n",
    "generator) as real.\n",
    "\n",
    "The discriminator is trained to maximize the probability of\n",
    "correctly classifying real data, while minimizing the probability of\n",
    "mistakenly classifying fake data.\n",
    "\n",
    "\\begin{align}Cost_D = \\mathrm{Pr}(real|\\mathrm{fake}) - \\mathrm{Pr}(real|\\mathrm{real})\\end{align}\n",
    "\n",
    "The generator is trained to maximize the probability that the\n",
    "discriminator accepts fake data as real.\n",
    "\n",
    "\\begin{align}Cost_G = - \\mathrm{Pr}(real|\\mathrm{fake})\\end{align}\n",
    "\n",
    "\n"
   ]
  },
  {
   "cell_type": "code",
   "execution_count": 12,
   "metadata": {},
   "outputs": [],
   "source": [
    "def prob_real_true(disc_weights):\n",
    "    true_disc_output = real_disc_circuit(phi, theta, omega, disc_weights)\n",
    "    # convert to probability\n",
    "    prob_real_true = (true_disc_output + 1) / 2\n",
    "    return prob_real_true\n",
    "\n",
    "\n",
    "def prob_fake_true(gen_weights, disc_weights):\n",
    "    fake_disc_output = gen_disc_circuit(gen_weights, disc_weights)\n",
    "    # convert to probability\n",
    "    prob_fake_true = (fake_disc_output + 1) / 2\n",
    "    return prob_fake_true\n",
    "\n",
    "\n",
    "def disc_cost(gen_weights, disc_weights):\n",
    "    cost = prob_fake_true(gen_weights, disc_weights) - prob_real_true(disc_weights)\n",
    "    return cost\n",
    "\n",
    "\n",
    "def gen_cost(gen_weights, disc_weights):\n",
    "    return -prob_fake_true(gen_weights, disc_weights)"
   ]
  },
  {
   "cell_type": "markdown",
   "metadata": {},
   "source": [
    "Training the QGAN\n",
    "-----------------\n",
    "\n",
    "We initialize the fixed angles of the \"real data\" circuit, as well as\n",
    "the initial parameters for both generator and discriminator. These are\n",
    "chosen so that the generator initially prepares a state on wire 0 that\n",
    "is very close to the $\\left| 1 \\right\\rangle$ state.\n",
    "\n"
   ]
  },
  {
   "cell_type": "code",
   "execution_count": 13,
   "metadata": {},
   "outputs": [],
   "source": [
    "phi = np.pi / 6\n",
    "theta = np.pi / 2\n",
    "omega = np.pi / 7\n",
    "np.random.seed(0)\n",
    "eps = 1e-2\n",
    "init_gen_weights = np.array([np.pi] + [0] * 8) + \\\n",
    "                   np.random.normal(scale=eps, size=(9,))\n",
    "init_disc_weights = np.random.normal(size=(9,))"
   ]
  },
  {
   "cell_type": "markdown",
   "metadata": {},
   "source": [
    "We begin by creating the optimizer:\n",
    "\n"
   ]
  },
  {
   "cell_type": "code",
   "execution_count": 14,
   "metadata": {},
   "outputs": [],
   "source": [
    "opt = tf.keras.optimizers.SGD(0.4)"
   ]
  },
  {
   "cell_type": "markdown",
   "metadata": {},
   "source": [
    "Define discriminator optimization procedure:"
   ]
  },
  {
   "cell_type": "code",
   "execution_count": 15,
   "metadata": {},
   "outputs": [],
   "source": [
    "def disc_optimize(num_epoch, opt, disc_cost, gen_weights, disc_weights, print_progress=True):\n",
    "\n",
    "    cost = lambda: disc_cost(gen_weights, disc_weights)\n",
    "\n",
    "    for step in range(num_epoch):\n",
    "        opt.minimize(cost, disc_weights)\n",
    "        if print_progress and step % 5 == 0:\n",
    "            cost_val = cost().numpy()\n",
    "            print(\"[disc] Step {}: cost = {}\".format(step, cost_val))"
   ]
  },
  {
   "cell_type": "markdown",
   "metadata": {},
   "source": [
    "Define generator optimization procedure:"
   ]
  },
  {
   "cell_type": "code",
   "execution_count": 16,
   "metadata": {},
   "outputs": [],
   "source": [
    "def gen_optimize(num_epoch, opt, gen_cost, gen_weights, disc_weights, print_progress=True):\n",
    "\n",
    "    cost = lambda: gen_cost(gen_weights, disc_weights)\n",
    "\n",
    "    for step in range(num_epoch):\n",
    "        opt.minimize(cost, gen_weights)\n",
    "        if print_progress and step % 5 == 0:\n",
    "            cost_val = cost().numpy()\n",
    "            print(\"[gen]  Step {}: cost = {}\".format(step, cost_val))"
   ]
  },
  {
   "cell_type": "markdown",
   "metadata": {},
   "source": [
    "Define overall optimization strategy with respect to the epoch hyperparameters:"
   ]
  },
  {
   "cell_type": "code",
   "execution_count": 17,
   "metadata": {},
   "outputs": [],
   "source": [
    "def optimize(num_alternating_epoch, num_individual_epoch, opt,\n",
    "            disc_cost, init_disc_weights, gen_cost, init_gen_weights,\n",
    "            print_progress=True):\n",
    "    gen_weights = tf.Variable(init_gen_weights)\n",
    "    disc_weights = tf.Variable(init_disc_weights)\n",
    "    \n",
    "    for ae in range(num_alternating_epoch):\n",
    "        if print_progress:\n",
    "            print('Alternating epoch: ' + str(ae))\n",
    "        disc_optimize(num_individual_epoch, opt, disc_cost, gen_weights, disc_weights, print_progress=print_progress)\n",
    "        gen_optimize(num_individual_epoch, opt, gen_cost, gen_weights, disc_weights, print_progress=print_progress)\n",
    "    \n",
    "    return gen_weights, disc_weights"
   ]
  },
  {
   "cell_type": "markdown",
   "metadata": {},
   "source": [
    "Start training:"
   ]
  },
  {
   "cell_type": "code",
   "execution_count": 18,
   "metadata": {},
   "outputs": [
    {
     "name": "stdout",
     "output_type": "stream",
     "text": [
      "Alternating epoch: 0\n",
      "[disc] Step 0: cost = -0.05727687478065491\n",
      "[disc] Step 5: cost = -0.26348111033439636\n",
      "[gen]  Step 0: cost = -0.5259977728128433\n",
      "[gen]  Step 5: cost = -0.7982093915343285\n",
      "Alternating epoch: 1\n",
      "[disc] Step 0: cost = 0.003219299018383026\n",
      "[disc] Step 5: cost = -0.030141867697238922\n",
      "[gen]  Step 0: cost = -0.8414990827441216\n",
      "[gen]  Step 5: cost = -0.8914423026144505\n",
      "Alternating epoch: 2\n",
      "[disc] Step 0: cost = 0.015962108969688416\n",
      "[disc] Step 5: cost = 0.004500001668930054\n",
      "[gen]  Step 0: cost = -0.8957922570407391\n",
      "[gen]  Step 5: cost = -0.8990886881947517\n",
      "Alternating epoch: 3\n",
      "[disc] Step 0: cost = 0.0030284561216831207\n",
      "[disc] Step 5: cost = 0.001276165246963501\n",
      "[gen]  Step 0: cost = -0.8971303515136242\n",
      "[gen]  Step 5: cost = -0.897724699229002\n",
      "Alternating epoch: 4\n",
      "[disc] Step 0: cost = 0.000931866466999054\n",
      "[disc] Step 5: cost = 0.0003459714353084564\n",
      "[gen]  Step 0: cost = -0.897084329277277\n",
      "[gen]  Step 5: cost = -0.8973288722336292\n",
      "Alternating epoch: 5\n",
      "[disc] Step 0: cost = 0.000243455171585083\n",
      "[disc] Step 5: cost = 9.143352508544922e-05\n",
      "[gen]  Step 0: cost = -0.8971779495477676\n",
      "[gen]  Step 5: cost = -0.8972320184111595\n",
      "Alternating epoch: 6\n",
      "[disc] Step 0: cost = 5.9388577938079834e-05\n",
      "[disc] Step 5: cost = 1.9293278455734253e-05\n",
      "[gen]  Step 0: cost = -0.8971935771405697\n",
      "[gen]  Step 5: cost = -0.8972103707492352\n",
      "Alternating epoch: 7\n",
      "[disc] Step 0: cost = 1.5057623386383057e-05\n",
      "[disc] Step 5: cost = 4.347413778305054e-06\n",
      "[gen]  Step 0: cost = -0.8972016610205173\n",
      "[gen]  Step 5: cost = -0.8972062654793262\n",
      "Alternating epoch: 8\n",
      "[disc] Step 0: cost = 3.5725533962249756e-06\n",
      "[disc] Step 5: cost = 1.3187527656555176e-06\n",
      "[gen]  Step 0: cost = -0.8972042016685009\n",
      "[gen]  Step 5: cost = -0.8972051963210106\n",
      "Alternating epoch: 9\n",
      "[disc] Step 0: cost = 7.413327693939209e-07\n",
      "[disc] Step 5: cost = 1.4528632164001465e-07\n",
      "[gen]  Step 0: cost = -0.89720468968153\n",
      "[gen]  Step 5: cost = -0.89720493927598\n"
     ]
    }
   ],
   "source": [
    "num_alternating_epoch = 10\n",
    "num_individual_epoch = 10\n",
    "\n",
    "gen_weights, disc_weights = optimize(\n",
    "    num_alternating_epoch, num_individual_epoch, opt,\n",
    "    disc_cost, init_disc_weights, gen_cost, init_gen_weights,\n",
    "    print_progress=True)"
   ]
  },
  {
   "cell_type": "markdown",
   "metadata": {},
   "source": [
    "Check training metrics:"
   ]
  },
  {
   "cell_type": "code",
   "execution_count": 20,
   "metadata": {},
   "outputs": [
    {
     "name": "stdout",
     "output_type": "stream",
     "text": [
      "Prob(real classified as real):  0.8972049541771412\n",
      "Prob(fake classified as real):  0.8972050882875919\n",
      "Discriminator cost:  1.341104507446289e-07\n"
     ]
    }
   ],
   "source": [
    "print(\"Prob(real classified as real): \", prob_real_true(disc_weights).numpy())\n",
    "print(\"Prob(fake classified as real): \", prob_fake_true(gen_weights, disc_weights).numpy())\n",
    "print(\"Discriminator cost: \", disc_cost(gen_weights, disc_weights).numpy())"
   ]
  },
  {
   "cell_type": "markdown",
   "metadata": {},
   "source": [
    "The generator has successfully learned how to simulate the real data\n",
    "enough to fool the discriminator.\n",
    "\n",
    "Let's conclude by comparing the states of the real data circuit and the generator. We expect\n",
    "the generator to have learned to be in a state that is very close to the one prepared in the\n",
    "real data circuit. An easy way to access the state of the first qubit is through its\n",
    "`Bloch sphere <https://en.wikipedia.org/wiki/Bloch_sphere>`__ representation:\n",
    "\n"
   ]
  },
  {
   "cell_type": "code",
   "execution_count": 21,
   "metadata": {},
   "outputs": [
    {
     "name": "stdout",
     "output_type": "stream",
     "text": [
      "Real Bloch vector: [-0.2169418   0.45048445 -0.86602525]\n",
      "Generator Bloch vector: [-0.21795285  0.44993043 -0.86605926]\n",
      "Error norm: 0.0011533907582134387\n"
     ]
    }
   ],
   "source": [
    "obs = [qml.PauliX(0), qml.PauliY(0), qml.PauliZ(0)]\n",
    "\n",
    "bv_real = qml.map(real, obs, dev, interface=\"tf\")\n",
    "bv_gen = qml.map(generator, obs, dev, interface=\"tf\")\n",
    "\n",
    "bv_real_arr = bv_real([phi, theta, omega])\n",
    "bv_gen_arr = bv_gen(gen_weights)\n",
    "error_norm = np.linalg.norm(bv_real_arr - bv_gen_arr)\n",
    "\n",
    "print(\"Real Bloch vector: {}\".format(bv_real_arr))\n",
    "print(\"Generator Bloch vector: {}\".format(bv_gen_arr))\n",
    "print(\"Error norm: {}\".format(error_norm))"
   ]
  }
 ],
 "metadata": {
  "kernelspec": {
   "display_name": "Python 3",
   "language": "python",
   "name": "python3"
  },
  "language_info": {
   "codemirror_mode": {
    "name": "ipython",
    "version": 3
   },
   "file_extension": ".py",
   "mimetype": "text/x-python",
   "name": "python",
   "nbconvert_exporter": "python",
   "pygments_lexer": "ipython3",
   "version": "3.8.5"
  }
 },
 "nbformat": 4,
 "nbformat_minor": 1
}